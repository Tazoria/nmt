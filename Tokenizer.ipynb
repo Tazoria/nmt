{
 "cells": [
  {
   "cell_type": "code",
   "execution_count": 13,
   "metadata": {
    "collapsed": true,
    "ExecuteTime": {
     "end_time": "2023-08-04T14:19:21.968457600Z",
     "start_time": "2023-08-04T14:19:14.608034200Z"
    }
   },
   "outputs": [
    {
     "name": "stderr",
     "output_type": "stream",
     "text": [
      "Skipping line 1377507: expected 2 fields, saw 3\n",
      "\n"
     ]
    },
    {
     "data": {
      "text/plain": "                                                  kr  \\\n0                            한 지역이나 장소를 지칭하는 말이 아니야.   \n1                                   수건을 새 걸로 교체해주세요.   \n2  또한 명문은 정설과 강씨를 장사지낸 시기에 대해서도 언급하고 있는데, 부인 강씨는 ...   \n3  제주특별자치도e스포츠협회가 주최하고 한국e스포츠제주지회가 주관한 이번 행사에는 제주...   \n4  대출업체가 대출 신청을 받은 뒤 적정 금리를 결정해 인터넷 게시판에 올리면 투자자들...   \n\n                                                  en  \n0  It is not a word that designated a specific ar...  \n1           Please replace the towel with a new one.  \n2  The inscription also states when the couple wa...  \n3  Hosted by the Jeju Special Self-Governing Prov...  \n4  If a lender receives a loan application, decid...  ",
      "text/html": "<div>\n<style scoped>\n    .dataframe tbody tr th:only-of-type {\n        vertical-align: middle;\n    }\n\n    .dataframe tbody tr th {\n        vertical-align: top;\n    }\n\n    .dataframe thead th {\n        text-align: right;\n    }\n</style>\n<table border=\"1\" class=\"dataframe\">\n  <thead>\n    <tr style=\"text-align: right;\">\n      <th></th>\n      <th>kr</th>\n      <th>en</th>\n    </tr>\n  </thead>\n  <tbody>\n    <tr>\n      <th>0</th>\n      <td>한 지역이나 장소를 지칭하는 말이 아니야.</td>\n      <td>It is not a word that designated a specific ar...</td>\n    </tr>\n    <tr>\n      <th>1</th>\n      <td>수건을 새 걸로 교체해주세요.</td>\n      <td>Please replace the towel with a new one.</td>\n    </tr>\n    <tr>\n      <th>2</th>\n      <td>또한 명문은 정설과 강씨를 장사지낸 시기에 대해서도 언급하고 있는데, 부인 강씨는 ...</td>\n      <td>The inscription also states when the couple wa...</td>\n    </tr>\n    <tr>\n      <th>3</th>\n      <td>제주특별자치도e스포츠협회가 주최하고 한국e스포츠제주지회가 주관한 이번 행사에는 제주...</td>\n      <td>Hosted by the Jeju Special Self-Governing Prov...</td>\n    </tr>\n    <tr>\n      <th>4</th>\n      <td>대출업체가 대출 신청을 받은 뒤 적정 금리를 결정해 인터넷 게시판에 올리면 투자자들...</td>\n      <td>If a lender receives a loan application, decid...</td>\n    </tr>\n  </tbody>\n</table>\n</div>"
     },
     "execution_count": 13,
     "metadata": {},
     "output_type": "execute_result"
    }
   ],
   "source": [
    "import pandas as pd\n",
    "\n",
    "data = pd.read_csv('data/corpus_shuf.tsv', sep='\\t', header=None, names=['kr', 'en'], on_bad_lines='warn')\n",
    "data.head()"
   ]
  },
  {
   "cell_type": "code",
   "execution_count": 53,
   "outputs": [],
   "source": [
    "# 영어 번역 결과가 없는 7개 문장 제거\n",
    "data = data.dropna()"
   ],
   "metadata": {
    "collapsed": false,
    "ExecuteTime": {
     "end_time": "2023-08-04T15:24:16.114423400Z",
     "start_time": "2023-08-04T15:24:15.897415700Z"
    }
   }
  },
  {
   "cell_type": "code",
   "execution_count": 77,
   "outputs": [],
   "source": [
    "sent_kr = list(data['kr'])\n",
    "sent_en = list(data['en'])"
   ],
   "metadata": {
    "collapsed": false,
    "ExecuteTime": {
     "end_time": "2023-08-04T16:47:58.016494700Z",
     "start_time": "2023-08-04T16:47:57.563708600Z"
    }
   }
  },
  {
   "cell_type": "code",
   "execution_count": 85,
   "outputs": [
    {
     "data": {
      "text/plain": "['한 지역이나 장소를 지칭하는 말이 아니야.',\n '수건을 새 걸로 교체해주세요.',\n '또한 명문은 정설과 강씨를 장사지낸 시기에 대해서도 언급하고 있는데, 부인 강씨는 1395년이고, 정설은 1423년이다.',\n '제주특별자치도e스포츠협회가 주최하고 한국e스포츠제주지회가 주관한 이번 행사에는 제주국제대학교 강철준 총장, 제주대학교 경상대 이동철 학장, 위성곤 국회의원, 김용범 제주도의회 의원, 문경운 제주도의회 의원 등 100여명이 참석했다.',\n '대출업체가 대출 신청을 받은 뒤 적정 금리를 결정해 인터넷 게시판에 올리면 투자자들이 이를 보고 투자하는 방식이다.']"
     },
     "execution_count": 85,
     "metadata": {},
     "output_type": "execute_result"
    }
   ],
   "source": [
    "sent_kr[:5]"
   ],
   "metadata": {
    "collapsed": false,
    "ExecuteTime": {
     "end_time": "2023-08-04T16:50:51.648697200Z",
     "start_time": "2023-08-04T16:50:51.640719600Z"
    }
   }
  },
  {
   "cell_type": "code",
   "execution_count": 87,
   "outputs": [],
   "source": [
    "from konlpy.tag import Mecab\n",
    "import spacy\n",
    "\n",
    "# def tokenize_kr(sentences):\n",
    "#     tokenizer = Mecab('c:/mecab/mecab-ko-dic')\n",
    "#     cnt = 0\n",
    "#     tokens_kr = []\n",
    "#     for sentence in sentences:\n",
    "#         print('문장 > ', sentence)\n",
    "#         for token in tokenizer.morphs(sentence):\n",
    "#             print('토큰 > ', token)\n",
    "#             if cnt > 0:\n",
    "#                 tokens_kr.append('##' + token)\n",
    "#             else:\n",
    "#                 tokens_kr.append(token)\n",
    "#                 cnt += 1\n",
    "#     return tokens_kr\n",
    "\n",
    "def tokenize_kr(sentences):\n",
    "    tokenizer = Mecab('c:/mecab/mecab-ko-dic')\n",
    "    tokens_kr = [tokenizer.morphs(s) for s in sentences]\n",
    "    return tokens_kr\n",
    "\n",
    "def tokenizer_en(sentences):\n",
    "    spacy_en = spacy.load('en')\n",
    "    tokens_en = [spacy_en.tokenizer(s) for s in sentences]\n",
    "    return tokens_en"
   ],
   "metadata": {
    "collapsed": false,
    "ExecuteTime": {
     "end_time": "2023-08-04T16:54:31.638190800Z",
     "start_time": "2023-08-04T16:54:31.629093100Z"
    }
   }
  },
  {
   "cell_type": "code",
   "execution_count": 88,
   "outputs": [
    {
     "name": "stdout",
     "output_type": "stream",
     "text": [
      "전체: >  ['한 지역이나 장소를 지칭하는 말이 아니야.', '수건을 새 걸로 교체해주세요.']\n",
      "[['한', '지역', '이나', '장소', '를', '지칭', '하', '는', '말', '이', '아니', '야', '.'], ['수건', '을', '새', '걸로', '교체', '해', '주', '세요', '.']]\n"
     ]
    }
   ],
   "source": [
    "print('전체: > ', sent_kr[0:2])\n",
    "print(tokenize_kr(sent_kr[0:2]))"
   ],
   "metadata": {
    "collapsed": false,
    "ExecuteTime": {
     "end_time": "2023-08-04T16:54:32.507783Z",
     "start_time": "2023-08-04T16:54:32.485712500Z"
    }
   }
  },
  {
   "cell_type": "code",
   "execution_count": 56,
   "outputs": [],
   "source": [
    "tokens_kr = tokenize_kr(sent_kr)\n",
    "tokens_en = tokenize_kr(sent_en)"
   ],
   "metadata": {
    "collapsed": false,
    "ExecuteTime": {
     "end_time": "2023-08-04T15:28:43.292302400Z",
     "start_time": "2023-08-04T15:24:23.251456400Z"
    }
   }
  },
  {
   "cell_type": "code",
   "execution_count": 58,
   "outputs": [
    {
     "data": {
      "text/plain": "[['한', '지역', '이나', '장소', '를', '지칭', '하', '는', '말', '이', '아니', '야', '.'],\n ['수건', '을', '새', '걸로', '교체', '해', '주', '세요', '.']]"
     },
     "execution_count": 58,
     "metadata": {},
     "output_type": "execute_result"
    }
   ],
   "source": [
    "tokens_kr[:2]"
   ],
   "metadata": {
    "collapsed": false,
    "ExecuteTime": {
     "end_time": "2023-08-04T15:29:00.484978700Z",
     "start_time": "2023-08-04T15:29:00.464015200Z"
    }
   }
  },
  {
   "cell_type": "code",
   "execution_count": 59,
   "outputs": [
    {
     "data": {
      "text/plain": "[['It',\n  'is',\n  'not',\n  'a',\n  'word',\n  'that',\n  'designated',\n  'a',\n  'specific',\n  'area',\n  'or',\n  'place',\n  '.'],\n ['Please', 'replace', 'the', 'towel', 'with', 'a', 'new', 'one', '.']]"
     },
     "execution_count": 59,
     "metadata": {},
     "output_type": "execute_result"
    }
   ],
   "source": [
    "tokens_en[:2]"
   ],
   "metadata": {
    "collapsed": false,
    "ExecuteTime": {
     "end_time": "2023-08-04T15:29:02.460782200Z",
     "start_time": "2023-08-04T15:29:02.421419100Z"
    }
   }
  },
  {
   "cell_type": "code",
   "execution_count": null,
   "outputs": [],
   "source": [
    "# https://wikidocs.net/99893\n",
    "from tokenizers import BertWordPieceTokenizer\n",
    "\n",
    "wp_tokenizer = BertWordPieceTokenizer(lowercase=False)\n",
    "wp_tokenizer.train()\n",
    "\n",
    "'''from transformers import BertTokenizer\n",
    "\n",
    "tokenizer_bert = BertTokenizer.from_pretrained(\"gdrive/My Drive/nlpbook/wordpiece\", do_lower_case=False)\n",
    "tokenized_sentences2 = [tokenizer_bert.tokenize(sentence) for sentence in sentences]\n",
    "     '''"
   ],
   "metadata": {
    "collapsed": false
   }
  }
 ],
 "metadata": {
  "kernelspec": {
   "display_name": "Python 3",
   "language": "python",
   "name": "python3"
  },
  "language_info": {
   "codemirror_mode": {
    "name": "ipython",
    "version": 2
   },
   "file_extension": ".py",
   "mimetype": "text/x-python",
   "name": "python",
   "nbconvert_exporter": "python",
   "pygments_lexer": "ipython2",
   "version": "2.7.6"
  }
 },
 "nbformat": 4,
 "nbformat_minor": 0
}
